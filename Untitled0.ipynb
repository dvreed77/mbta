{
 "metadata": {
  "name": ""
 },
 "nbformat": 3,
 "nbformat_minor": 0,
 "worksheets": [
  {
   "cells": [
    {
     "cell_type": "code",
     "collapsed": false,
     "input": [
      "import pandas as pd\n",
      "import numpy as np\n",
      "%pylab inline"
     ],
     "language": "python",
     "metadata": {},
     "outputs": [
      {
       "output_type": "stream",
       "stream": "stdout",
       "text": [
        "Populating the interactive namespace from numpy and matplotlib\n"
       ]
      }
     ],
     "prompt_number": 1
    },
    {
     "cell_type": "code",
     "collapsed": false,
     "input": [
      "trips = pd.read_csv('MBTA_GTFS/trips.txt')\n",
      "trips"
     ],
     "language": "python",
     "metadata": {},
     "outputs": [
      {
       "html": [
        "<pre>\n",
        "&lt;class 'pandas.core.frame.DataFrame'&gt;\n",
        "Int64Index: 117462 entries, 0 to 117461\n",
        "Data columns (total 7 columns):\n",
        "route_id         117462  non-null values\n",
        "service_id       117462  non-null values\n",
        "trip_id          117462  non-null values\n",
        "trip_headsign    117035  non-null values\n",
        "direction_id     117462  non-null values\n",
        "block_id         116251  non-null values\n",
        "shape_id         117014  non-null values\n",
        "dtypes: int64(1), object(6)\n",
        "</pre>"
       ],
       "metadata": {},
       "output_type": "pyout",
       "prompt_number": 2,
       "text": [
        "<class 'pandas.core.frame.DataFrame'>\n",
        "Int64Index: 117462 entries, 0 to 117461\n",
        "Data columns (total 7 columns):\n",
        "route_id         117462  non-null values\n",
        "service_id       117462  non-null values\n",
        "trip_id          117462  non-null values\n",
        "trip_headsign    117035  non-null values\n",
        "direction_id     117462  non-null values\n",
        "block_id         116251  non-null values\n",
        "shape_id         117014  non-null values\n",
        "dtypes: int64(1), object(6)"
       ]
      }
     ],
     "prompt_number": 2
    },
    {
     "cell_type": "code",
     "collapsed": false,
     "input": [
      "len(np.unique(trips.trip_id))"
     ],
     "language": "python",
     "metadata": {},
     "outputs": [
      {
       "metadata": {},
       "output_type": "pyout",
       "prompt_number": 3,
       "text": [
        "117462"
       ]
      }
     ],
     "prompt_number": 3
    },
    {
     "cell_type": "code",
     "collapsed": false,
     "input": [
      "trips.trip_headsign[0]"
     ],
     "language": "python",
     "metadata": {},
     "outputs": [
      {
       "metadata": {},
       "output_type": "pyout",
       "prompt_number": 4,
       "text": [
        "'Medford Square via West Medford'"
       ]
      }
     ],
     "prompt_number": 4
    },
    {
     "cell_type": "code",
     "collapsed": false,
     "input": [
      "\"Medford\" in trips.trip_headsign[0]"
     ],
     "language": "python",
     "metadata": {},
     "outputs": [
      {
       "metadata": {},
       "output_type": "pyout",
       "prompt_number": 5,
       "text": [
        "True"
       ]
      }
     ],
     "prompt_number": 5
    },
    {
     "cell_type": "code",
     "collapsed": false,
     "input": [
      "def find_trip(df, trip_string):\n",
      "    mask = df.trip_headsign.str.contains(trip_string)\n",
      "    return df[mask]"
     ],
     "language": "python",
     "metadata": {},
     "outputs": [],
     "prompt_number": 6
    },
    {
     "cell_type": "code",
     "collapsed": false,
     "input": [
      "trips.trip_headsign = trips.trip_headsign.fillna(\"\")\n",
      "trips.block_id = trips.block_id.fillna(\"\")\n",
      "trips.shape_id = trips.shape_id.fillna(\"\")\n"
     ],
     "language": "python",
     "metadata": {},
     "outputs": [],
     "prompt_number": 7
    },
    {
     "cell_type": "code",
     "collapsed": false,
     "input": [
      "tmp = np.unique(find_trip(trips, \"Harvard Station via Mass. Ave.\").trip_id)\n",
      "len(tmp)\n",
      "tmp.iloc[0:10]"
     ],
     "language": "python",
     "metadata": {},
     "outputs": [
      {
       "metadata": {},
       "output_type": "pyout",
       "prompt_number": 8,
       "text": [
        "42074    20241341\n",
        "42076    20241343\n",
        "42078    20241345\n",
        "42080    20241347\n",
        "42082    20241349\n",
        "42084    20241351\n",
        "42086    20241353\n",
        "42088    20241355\n",
        "42090    20241357\n",
        "42092    20241359\n",
        "dtype: object"
       ]
      }
     ],
     "prompt_number": 8
    },
    {
     "cell_type": "code",
     "collapsed": false,
     "input": [
      "np.unique(find_trip(trips, \"Harvard\").trip_headsign)"
     ],
     "language": "python",
     "metadata": {},
     "outputs": [
      {
       "metadata": {},
       "output_type": "pyout",
       "prompt_number": 9,
       "text": [
        "25424                   Cleveland Circle via Harvard\n",
        "70831                     Harvard Square via Allston\n",
        "28920                    Harvard Square via Broadway\n",
        "28120                  Harvard Square via Huron Ave.\n",
        "24739                  Harvard Station via Blanchard\n",
        "8194               Harvard Station via Cambridge St.\n",
        "26837               Harvard Station via Concord Ave.\n",
        "11619               Harvard Station via Davis Square\n",
        "64991                 Harvard Station via Mass. Ave.\n",
        "10644                 Harvard Station via Mt. Auburn\n",
        "32604             Harvard Station via Mt. Auburn St.\n",
        "28072    Harvard Station via Park Circle & Blanchard\n",
        "31018                          Harvard via 700 Huron\n",
        "30290                   Sullivan Station via Harvard\n",
        "Name: trip_headsign, dtype: object"
       ]
      }
     ],
     "prompt_number": 9
    },
    {
     "cell_type": "code",
     "collapsed": false,
     "input": [
      "np.unique(find_trip(trips, \"Harvard Station via Mass. Ave.\").route_id)"
     ],
     "language": "python",
     "metadata": {},
     "outputs": [
      {
       "metadata": {},
       "output_type": "pyout",
       "prompt_number": 10,
       "text": [
        "72722    01\n",
        "29579    77\n",
        "Name: route_id, dtype: object"
       ]
      }
     ],
     "prompt_number": 10
    },
    {
     "cell_type": "code",
     "collapsed": false,
     "input": [
      "np.unique(trips[trips.route_id == \"01\"].shape_id)"
     ],
     "language": "python",
     "metadata": {},
     "outputs": [
      {
       "metadata": {},
       "output_type": "pyout",
       "prompt_number": 11,
       "text": [
        "37816    010018\n",
        "42161    010019\n",
        "66921    010022\n",
        "70722    010023\n",
        "Name: shape_id, dtype: object"
       ]
      }
     ],
     "prompt_number": 11
    },
    {
     "cell_type": "code",
     "collapsed": false,
     "input": [
      "shape = pd.read_csv('MBTA_GTFS/shapes.txt')"
     ],
     "language": "python",
     "metadata": {},
     "outputs": [],
     "prompt_number": 12
    },
    {
     "cell_type": "code",
     "collapsed": false,
     "input": [
      "shp1 = shape[shape.shape_id == \"010018\"]\n",
      "shp1.columns = ['id','lat','lon','seq','dist']\n",
      "shp2 = shape[shape.shape_id == \"010019\"]\n",
      "shp2.columns = ['id','lat','lon','seq','dist']\n",
      "shp3 = shape[shape.shape_id == \"010022\"]\n",
      "shp3.columns = ['id','lat','lon','seq','dist']\n",
      "shp4 = shape[shape.shape_id == \"010023\"]\n",
      "shp4.columns = ['id','lat','lon','seq','dist']"
     ],
     "language": "python",
     "metadata": {},
     "outputs": [],
     "prompt_number": 13
    },
    {
     "cell_type": "code",
     "collapsed": false,
     "input": [
      "plot(shp1.lat, shp1.lon)\n",
      "plot(shp2.lat, shp2.lon)\n",
      "plot(shp3.lat, shp3.lon)\n",
      "plot(shp4.lat, shp4.lon)"
     ],
     "language": "python",
     "metadata": {},
     "outputs": [
      {
       "metadata": {},
       "output_type": "pyout",
       "prompt_number": 14,
       "text": [
        "[<matplotlib.lines.Line2D at 0x106debed0>]"
       ]
      },
      {
       "metadata": {},
       "output_type": "display_data",
       "png": "[encoded data removed]",
       "text": [
        "<matplotlib.figure.Figure at 0x106dc4050>"
       ]
      }
     ],
     "prompt_number": 14
    },
    {
     "cell_type": "code",
     "collapsed": false,
     "input": [
      "shp1.to_json(\"shape1.json\", orient=\"records\")"
     ],
     "language": "python",
     "metadata": {},
     "outputs": [],
     "prompt_number": 15
    },
    {
     "cell_type": "code",
     "collapsed": false,
     "input": [
      "stops = pd.read_csv('MBTA_GTFS/stops.txt')\n",
      "stops"
     ],
     "language": "python",
     "metadata": {},
     "outputs": [
      {
       "html": [
        "<pre>\n",
        "&lt;class 'pandas.core.frame.DataFrame'&gt;\n",
        "Int64Index: 8219 entries, 0 to 8218\n",
        "Data columns (total 10 columns):\n",
        "stop_id           8219  non-null values\n",
        "stop_code         7945  non-null values\n",
        "stop_name         8219  non-null values\n",
        "stop_desc         0  non-null values\n",
        "stop_lat          8219  non-null values\n",
        "stop_lon          8219  non-null values\n",
        "zone_id           0  non-null values\n",
        "stop_url          0  non-null values\n",
        "location_type     274  non-null values\n",
        "parent_station    364  non-null values\n",
        "dtypes: float64(7), object(3)\n",
        "</pre>"
       ],
       "metadata": {},
       "output_type": "pyout",
       "prompt_number": 16,
       "text": [
        "<class 'pandas.core.frame.DataFrame'>\n",
        "Int64Index: 8219 entries, 0 to 8218\n",
        "Data columns (total 10 columns):\n",
        "stop_id           8219  non-null values\n",
        "stop_code         7945  non-null values\n",
        "stop_name         8219  non-null values\n",
        "stop_desc         0  non-null values\n",
        "stop_lat          8219  non-null values\n",
        "stop_lon          8219  non-null values\n",
        "zone_id           0  non-null values\n",
        "stop_url          0  non-null values\n",
        "location_type     274  non-null values\n",
        "parent_station    364  non-null values\n",
        "dtypes: float64(7), object(3)"
       ]
      }
     ],
     "prompt_number": 16
    },
    {
     "cell_type": "code",
     "collapsed": false,
     "input": [
      "stop_times = pd.read_csv('MBTA_GTFS/stop_times.txt')"
     ],
     "language": "python",
     "metadata": {},
     "outputs": [],
     "prompt_number": 17
    },
    {
     "cell_type": "code",
     "collapsed": false,
     "input": [
      "stop_times"
     ],
     "language": "python",
     "metadata": {},
     "outputs": [
      {
       "html": [
        "<pre>\n",
        "&lt;class 'pandas.core.frame.DataFrame'&gt;\n",
        "Int64Index: 3162986 entries, 0 to 3162985\n",
        "Columns: 8 entries, trip_id to drop_off_type\n",
        "dtypes: float64(1), int64(3), object(4)\n",
        "</pre>"
       ],
       "metadata": {},
       "output_type": "pyout",
       "prompt_number": 18,
       "text": [
        "<class 'pandas.core.frame.DataFrame'>\n",
        "Int64Index: 3162986 entries, 0 to 3162985\n",
        "Columns: 8 entries, trip_id to drop_off_type\n",
        "dtypes: float64(1), int64(3), object(4)"
       ]
      }
     ],
     "prompt_number": 18
    },
    {
     "cell_type": "code",
     "collapsed": false,
     "input": [
      "tr = trips[trips.route_id == \"01\"].trip_id\n",
      "print \"There are %i unique trip id's here.\" % len(np.unique(tr))"
     ],
     "language": "python",
     "metadata": {},
     "outputs": [
      {
       "output_type": "stream",
       "stream": "stdout",
       "text": [
        "There are 1642 unique trip id's here.\n"
       ]
      }
     ],
     "prompt_number": 19
    },
    {
     "cell_type": "markdown",
     "metadata": {},
     "source": [
      "How many unique SERVICE_ID's are there?"
     ]
    },
    {
     "cell_type": "code",
     "collapsed": false,
     "input": [
      "print np.unique(trips[trips.route_id == \"01\"].service_id)"
     ],
     "language": "python",
     "metadata": {},
     "outputs": [
      {
       "output_type": "stream",
       "stream": "stdout",
       "text": [
        "39281     BUSS33-hbc33011-Weekday-02\n",
        "42136    BUSS33-hbc33016-Saturday-02\n",
        "43949      BUSS33-hbc33017-Sunday-02\n",
        "62957     BUSS43-hbc43011-Weekday-02\n",
        "64979    BUSS43-hbc43016-Saturday-02\n",
        "66807      BUSS43-hbc43017-Sunday-02\n",
        "68337      BUSS43-hbc43hl7-Sunday-02\n",
        "70670     BUSS43-hbc43ns1-Weekday-02\n",
        "72723    BUSS43-hbc43tp6-Saturday-02\n",
        "Name: service_id, dtype: object\n"
       ]
      }
     ],
     "prompt_number": 20
    },
    {
     "cell_type": "code",
     "collapsed": false,
     "input": [
      "print tr.head(2)\n",
      "len(stop_times[stop_times.trip_id == int(tr.iloc[0])])\n",
      "stop_times[stop_times.trip_id == int(tr.iloc[0])].iloc[0]"
     ],
     "language": "python",
     "metadata": {},
     "outputs": [
      {
       "output_type": "stream",
       "stream": "stdout",
       "text": [
        "37815    20288466\n",
        "37816    20288467\n",
        "Name: trip_id, dtype: object\n"
       ]
      },
      {
       "metadata": {},
       "output_type": "pyout",
       "prompt_number": 21,
       "text": [
        "trip_id           20288466\n",
        "arrival_time      18:10:00\n",
        "departure_time    18:10:00\n",
        "stop_id                110\n",
        "stop_sequence            1\n",
        "stop_headsign          NaN\n",
        "pickup_type              0\n",
        "drop_off_type            0\n",
        "Name: 1290869, dtype: object"
       ]
      }
     ],
     "prompt_number": 21
    },
    {
     "cell_type": "code",
     "collapsed": false,
     "input": [
      "grouped = stop_times.groupby('trip_id')\n",
      "start_times = grouped.first().arrival_time"
     ],
     "language": "python",
     "metadata": {},
     "outputs": [],
     "prompt_number": 22
    },
    {
     "cell_type": "code",
     "collapsed": false,
     "input": [
      "print grouped.arrival_time.first().iloc[0]\n",
      "print start_times.iloc[0]\n",
      "grouped.arrival_time.min()"
     ],
     "language": "python",
     "metadata": {},
     "outputs": [
      {
       "output_type": "stream",
       "stream": "stdout",
       "text": [
        "04:56:00\n",
        "04:56:00\n"
       ]
      },
      {
       "metadata": {},
       "output_type": "pyout",
       "prompt_number": 23,
       "text": [
        "trip_id\n",
        "20038701    04:56:00\n",
        "20038702    05:07:00\n",
        "20038703    19:00:00\n",
        "20038704    19:10:00\n",
        "20038705    05:19:00\n",
        "20038706    19:20:00\n",
        "20038707    05:30:00\n",
        "20038708    19:30:00\n",
        "20038709    05:40:00\n",
        "20038710    19:40:00\n",
        "20038711    05:50:00\n",
        "20038712    19:50:00\n",
        "20038713    05:58:00\n",
        "20038714    20:00:00\n",
        "20038715    20:10:00\n",
        "...\n",
        "Logan-44-1030PM-Weekday     22:30:00\n",
        "Logan-44-1130PM-Saturday    23:30:00\n",
        "Logan-44-1130PM-Sunday      23:30:00\n",
        "Logan-44-500AM-Saturday     05:00:00\n",
        "Logan-44-500AM-Sunday       05:00:00\n",
        "Logan-44-500AM-Weekday      05:00:00\n",
        "Logan-55-1100PM-Sunday      23:00:00\n",
        "Logan-55-1100PM-Weekday     23:00:00\n",
        "Logan-55-400AM-Saturday     04:00:00\n",
        "Logan-55-400AM-Sunday       04:00:00\n",
        "Logan-55-400AM-Weekday      04:00:00\n",
        "Logan-55-800PM-Saturday     20:00:00\n",
        "Logan-66-600AM-Weekday      06:00:00\n",
        "Logan-66-700AM-Saturday     07:00:00\n",
        "Logan-66-700AM-Sunday       07:00:00\n",
        "Name: arrival_time, Length: 117463, dtype: object"
       ]
      }
     ],
     "prompt_number": 23
    },
    {
     "cell_type": "code",
     "collapsed": false,
     "input": [
      "print stop_times[stop_times.trip_id == int(tr.iloc[0])].head(100).iloc[0]['arrival_time']\n",
      "print start_times[int(tr.iloc[0])]\n",
      "\n",
      "print stop_times[stop_times.trip_id == int(tr.iloc[1])].head(100).iloc[0]['arrival_time']\n",
      "print start_times[int(tr.iloc[1])]"
     ],
     "language": "python",
     "metadata": {},
     "outputs": [
      {
       "output_type": "stream",
       "stream": "stdout",
       "text": [
        "18:10:00\n",
        "18:10:00\n",
        "18:55:00"
       ]
      },
      {
       "output_type": "stream",
       "stream": "stdout",
       "text": [
        "\n",
        "18:55:00\n"
       ]
      }
     ],
     "prompt_number": 24
    },
    {
     "cell_type": "code",
     "collapsed": false,
     "input": [
      "len(tr)"
     ],
     "language": "python",
     "metadata": {},
     "outputs": [
      {
       "metadata": {},
       "output_type": "pyout",
       "prompt_number": 25,
       "text": [
        "1642"
       ]
      }
     ],
     "prompt_number": 25
    },
    {
     "cell_type": "code",
     "collapsed": false,
     "input": [
      "times = []\n",
      "for ii in range(len(tr)):\n",
      "    t = start_times[int(tr.iloc[ii])]\n",
      "    times.append(t)"
     ],
     "language": "python",
     "metadata": {},
     "outputs": [],
     "prompt_number": 26
    },
    {
     "cell_type": "code",
     "collapsed": false,
     "input": [
      "times[:10]"
     ],
     "language": "python",
     "metadata": {},
     "outputs": [
      {
       "metadata": {},
       "output_type": "pyout",
       "prompt_number": 27,
       "text": [
        "['18:10:00',\n",
        " '18:55:00',\n",
        " '19:41:00',\n",
        " '15:48:00',\n",
        " '16:33:00',\n",
        " '17:33:00',\n",
        " '18:18:00',\n",
        " '19:03:00',\n",
        " '15:55:00',\n",
        " '16:40:00']"
       ]
      }
     ],
     "prompt_number": 27
    },
    {
     "cell_type": "code",
     "collapsed": false,
     "input": [
      "times = []\n",
      "for ii in range(100):\n",
      "    t = stop_times[stop_times.trip_id == int(tr.iloc[ii])].head(100).iloc[0]['arrival_time']\n",
      "    times.append(t)"
     ],
     "language": "python",
     "metadata": {},
     "outputs": [],
     "prompt_number": 28
    },
    {
     "cell_type": "code",
     "collapsed": false,
     "input": [
      "import datetime\n",
      "from datetime import timedelta\n",
      "import calendar\n",
      "print times[0]\n",
      "a = datetime.datetime.strptime(times[0],'%H:%M:%S')"
     ],
     "language": "python",
     "metadata": {},
     "outputs": [
      {
       "output_type": "stream",
       "stream": "stdout",
       "text": [
        "18:10:00\n"
       ]
      }
     ],
     "prompt_number": 29
    },
    {
     "cell_type": "code",
     "collapsed": false,
     "input": [
      "def to_sec(x):\n",
      "    hour, minute, second = x.split(':')\n",
      "#     a = datetime.datetime.strptime(x,'%H:%M:%S')\n",
      "    return timedelta(hours=int(hour), minutes=int(minute), seconds=int(second)).total_seconds()"
     ],
     "language": "python",
     "metadata": {},
     "outputs": [],
     "prompt_number": 30
    },
    {
     "cell_type": "code",
     "collapsed": false,
     "input": [
      "t2 = [to_sec(x) for x in times]\n",
      "print t2[:10]\n",
      "t3 = sorted(t2)\n",
      "print t3[:10]\n",
      "plot(t3)"
     ],
     "language": "python",
     "metadata": {},
     "outputs": [
      {
       "output_type": "stream",
       "stream": "stdout",
       "text": [
        "[65400.0, 68100.0, 70860.0, 56880.0, 59580.0, 63180.0, 65880.0, 68580.0, 57300.0, 60000.0]\n",
        "[19020.0, 19980.0, 21000.0, 21960.0, 22740.0, 23220.0, 23700.0, 24180.0, 25020.0, 25500.0]\n"
       ]
      },
      {
       "metadata": {},
       "output_type": "pyout",
       "prompt_number": 31,
       "text": [
        "[<matplotlib.lines.Line2D at 0x117bdf690>]"
       ]
      },
      {
       "metadata": {},
       "output_type": "display_data",
       "png": "[encoded data removed]",
       "text": [
        "<matplotlib.figure.Figure at 0x117bb6610>"
       ]
      }
     ],
     "prompt_number": 31
    },
    {
     "cell_type": "code",
     "collapsed": false,
     "input": [
      "from mbta import *"
     ],
     "language": "python",
     "metadata": {},
     "outputs": [],
     "prompt_number": 32
    },
    {
     "cell_type": "code",
     "collapsed": false,
     "input": [
      "t1 = dave()[0]\n",
      "t1"
     ],
     "language": "python",
     "metadata": {},
     "outputs": [
      {
       "metadata": {},
       "output_type": "pyout",
       "prompt_number": 33,
       "text": [
        "{'curr_stop': u'',\n",
        " 'curr_stop_seq': 0,\n",
        " 'lat': 42.33209228515625,\n",
        " 'lng': -71.06465148925781,\n",
        " 'time': 1384400802L,\n",
        " 'trip_id': u''}"
       ]
      }
     ],
     "prompt_number": 33
    },
    {
     "cell_type": "code",
     "collapsed": false,
     "input": [
      "trips[trips.trip_id == '20352338']"
     ],
     "language": "python",
     "metadata": {},
     "outputs": [
      {
       "html": [
        "<div style=\"max-height:1000px;max-width:1500px;overflow:auto;\">\n",
        "<table border=\"1\" class=\"dataframe\">\n",
        "  <thead>\n",
        "    <tr style=\"text-align: right;\">\n",
        "      <th></th>\n",
        "      <th>route_id</th>\n",
        "      <th>service_id</th>\n",
        "      <th>trip_id</th>\n",
        "      <th>trip_headsign</th>\n",
        "      <th>direction_id</th>\n",
        "      <th>block_id</th>\n",
        "      <th>shape_id</th>\n",
        "    </tr>\n",
        "  </thead>\n",
        "  <tbody>\n",
        "    <tr>\n",
        "      <th>49406</th>\n",
        "      <td> 39</td>\n",
        "      <td> BUSS33-hbs33017-Sunday-02</td>\n",
        "      <td> 20352338</td>\n",
        "      <td> Back Bay Station via Copley Square</td>\n",
        "      <td> 1</td>\n",
        "      <td> S39-53</td>\n",
        "      <td> 390003</td>\n",
        "    </tr>\n",
        "  </tbody>\n",
        "</table>\n",
        "</div>"
       ],
       "metadata": {},
       "output_type": "pyout",
       "prompt_number": 34,
       "text": [
        "      route_id                 service_id   trip_id  \\\n",
        "49406       39  BUSS33-hbs33017-Sunday-02  20352338   \n",
        "\n",
        "                            trip_headsign  direction_id block_id shape_id  \n",
        "49406  Back Bay Station via Copley Square             1   S39-53   390003  "
       ]
      }
     ],
     "prompt_number": 34
    },
    {
     "cell_type": "code",
     "collapsed": false,
     "input": [
      "intrips = [x.trip_id for x in dave()]\n",
      "rt01 = intersect1d(intrips, tr.apply(str))"
     ],
     "language": "python",
     "metadata": {},
     "outputs": [],
     "prompt_number": 79
    },
    {
     "cell_type": "code",
     "collapsed": false,
     "input": [
      "rt01 = rt01.astype(int)\n",
      "rt01.astype(str)"
     ],
     "language": "python",
     "metadata": {},
     "outputs": [
      {
       "metadata": {},
       "output_type": "pyout",
       "prompt_number": 80,
       "text": [
        "array(['20880652', '20880657', '20880663', '20880675', '20880710',\n",
        "       '20880726', '20880837'], \n",
        "      dtype='|S24')"
       ]
      }
     ],
     "prompt_number": 80
    },
    {
     "cell_type": "markdown",
     "metadata": {},
     "source": [
      "The vehicles1.pb file was collected on Nov 14, 2013, this was a Wednesday at night time.  How does that information correlate with the 7 trip ids I have."
     ]
    },
    {
     "cell_type": "code",
     "collapsed": false,
     "input": [
      "trips[trips.trip_id.isin(rt01.astype(str))]"
     ],
     "language": "python",
     "metadata": {},
     "outputs": [
      {
       "html": [
        "<div style=\"max-height:1000px;max-width:1500px;overflow:auto;\">\n",
        "<table border=\"1\" class=\"dataframe\">\n",
        "  <thead>\n",
        "    <tr style=\"text-align: right;\">\n",
        "      <th></th>\n",
        "      <th>route_id</th>\n",
        "      <th>service_id</th>\n",
        "      <th>trip_id</th>\n",
        "      <th>trip_headsign</th>\n",
        "      <th>direction_id</th>\n",
        "      <th>block_id</th>\n",
        "      <th>shape_id</th>\n",
        "    </tr>\n",
        "  </thead>\n",
        "  <tbody>\n",
        "    <tr>\n",
        "      <th>62824</th>\n",
        "      <td> 01</td>\n",
        "      <td> BUSS43-hbc43011-Weekday-02</td>\n",
        "      <td> 20880652</td>\n",
        "      <td>  Dudley Station via Mass. Ave.</td>\n",
        "      <td> 1</td>\n",
        "      <td>  C01-15</td>\n",
        "      <td> 010022</td>\n",
        "    </tr>\n",
        "    <tr>\n",
        "      <th>62829</th>\n",
        "      <td> 01</td>\n",
        "      <td> BUSS43-hbc43011-Weekday-02</td>\n",
        "      <td> 20880657</td>\n",
        "      <td> Harvard Station via Mass. Ave.</td>\n",
        "      <td> 0</td>\n",
        "      <td>  C01-16</td>\n",
        "      <td> 010023</td>\n",
        "    </tr>\n",
        "    <tr>\n",
        "      <th>62835</th>\n",
        "      <td> 01</td>\n",
        "      <td> BUSS43-hbc43011-Weekday-02</td>\n",
        "      <td> 20880663</td>\n",
        "      <td> Harvard Station via Mass. Ave.</td>\n",
        "      <td> 0</td>\n",
        "      <td>  C01-23</td>\n",
        "      <td> 010023</td>\n",
        "    </tr>\n",
        "    <tr>\n",
        "      <th>62847</th>\n",
        "      <td> 01</td>\n",
        "      <td> BUSS43-hbc43011-Weekday-02</td>\n",
        "      <td> 20880675</td>\n",
        "      <td>  Dudley Station via Mass. Ave.</td>\n",
        "      <td> 1</td>\n",
        "      <td>  C01-25</td>\n",
        "      <td> 010022</td>\n",
        "    </tr>\n",
        "    <tr>\n",
        "      <th>62882</th>\n",
        "      <td> 01</td>\n",
        "      <td> BUSS43-hbc43011-Weekday-02</td>\n",
        "      <td> 20880710</td>\n",
        "      <td>  Dudley Station via Mass. Ave.</td>\n",
        "      <td> 1</td>\n",
        "      <td> C66-258</td>\n",
        "      <td> 010022</td>\n",
        "    </tr>\n",
        "    <tr>\n",
        "      <th>62898</th>\n",
        "      <td> 01</td>\n",
        "      <td> BUSS43-hbc43011-Weekday-02</td>\n",
        "      <td> 20880726</td>\n",
        "      <td> Harvard Station via Mass. Ave.</td>\n",
        "      <td> 0</td>\n",
        "      <td>  C01-22</td>\n",
        "      <td> 010023</td>\n",
        "    </tr>\n",
        "    <tr>\n",
        "      <th>63009</th>\n",
        "      <td> 01</td>\n",
        "      <td> BUSS43-hbc43011-Weekday-02</td>\n",
        "      <td> 20880837</td>\n",
        "      <td>  Dudley Station via Mass. Ave.</td>\n",
        "      <td> 1</td>\n",
        "      <td>   C01-3</td>\n",
        "      <td> 010022</td>\n",
        "    </tr>\n",
        "  </tbody>\n",
        "</table>\n",
        "</div>"
       ],
       "metadata": {},
       "output_type": "pyout",
       "prompt_number": 59,
       "text": [
        "      route_id                  service_id   trip_id  \\\n",
        "62824       01  BUSS43-hbc43011-Weekday-02  20880652   \n",
        "62829       01  BUSS43-hbc43011-Weekday-02  20880657   \n",
        "62835       01  BUSS43-hbc43011-Weekday-02  20880663   \n",
        "62847       01  BUSS43-hbc43011-Weekday-02  20880675   \n",
        "62882       01  BUSS43-hbc43011-Weekday-02  20880710   \n",
        "62898       01  BUSS43-hbc43011-Weekday-02  20880726   \n",
        "63009       01  BUSS43-hbc43011-Weekday-02  20880837   \n",
        "\n",
        "                        trip_headsign  direction_id block_id shape_id  \n",
        "62824   Dudley Station via Mass. Ave.             1   C01-15   010022  \n",
        "62829  Harvard Station via Mass. Ave.             0   C01-16   010023  \n",
        "62835  Harvard Station via Mass. Ave.             0   C01-23   010023  \n",
        "62847   Dudley Station via Mass. Ave.             1   C01-25   010022  \n",
        "62882   Dudley Station via Mass. Ave.             1  C66-258   010022  \n",
        "62898  Harvard Station via Mass. Ave.             0   C01-22   010023  \n",
        "63009   Dudley Station via Mass. Ave.             1    C01-3   010022  "
       ]
      }
     ],
     "prompt_number": 59
    },
    {
     "cell_type": "code",
     "collapsed": false,
     "input": [
      "buses_rt1 = filter(lambda x: len(x.trip_id) and (int(x.trip_id) in rt01), out)\n",
      "buses_rt1"
     ],
     "language": "python",
     "metadata": {},
     "outputs": [
      {
       "metadata": {},
       "output_type": "pyout",
       "prompt_number": 81,
       "text": [
        "[{'curr_stop': u'',\n",
        "  'curr_stop_seq': 13,\n",
        "  'lat': 42.3587760925293,\n",
        "  'lng': -71.09347534179688,\n",
        "  'status': 2,\n",
        "  'time': 1384400814L,\n",
        "  'trip_id': u'20880710'},\n",
        " {'curr_stop': u'',\n",
        "  'curr_stop_seq': 23,\n",
        "  'lat': 42.33323669433594,\n",
        "  'lng': -71.07393646240234,\n",
        "  'status': 2,\n",
        "  'time': 1384400758L,\n",
        "  'trip_id': u'20880837'},\n",
        " {'curr_stop': u'',\n",
        "  'curr_stop_seq': 23,\n",
        "  'lat': 42.370361328125,\n",
        "  'lng': -71.11328125,\n",
        "  'status': 2,\n",
        "  'time': 1384400811L,\n",
        "  'trip_id': u'20880726'},\n",
        " {'curr_stop': u'',\n",
        "  'curr_stop_seq': 2,\n",
        "  'lat': 42.37491989135742,\n",
        "  'lng': -71.1185531616211,\n",
        "  'status': 2,\n",
        "  'time': 1384400800L,\n",
        "  'trip_id': u'20880675'},\n",
        " {'curr_stop': u'',\n",
        "  'curr_stop_seq': 24,\n",
        "  'lat': 42.331546783447266,\n",
        "  'lng': -71.0763931274414,\n",
        "  'status': 2,\n",
        "  'time': 1384400808L,\n",
        "  'trip_id': u'20880652'},\n",
        " {'curr_stop': u'',\n",
        "  'curr_stop_seq': 21,\n",
        "  'lat': 42.36665344238281,\n",
        "  'lng': -71.10565948486328,\n",
        "  'status': 2,\n",
        "  'time': 1384400780L,\n",
        "  'trip_id': u'20880663'},\n",
        " {'curr_stop': u'',\n",
        "  'curr_stop_seq': 5,\n",
        "  'lat': 42.33127212524414,\n",
        "  'lng': -71.07711029052734,\n",
        "  'status': 2,\n",
        "  'time': 1384400802L,\n",
        "  'trip_id': u'20880657'}]"
       ]
      }
     ],
     "prompt_number": 81
    },
    {
     "cell_type": "code",
     "collapsed": false,
     "input": [
      "bus_tmp = buses_rt1[2]\n",
      "print bus_tmp\n",
      "print datetime.datetime.fromtimestamp(bus_tmp.time)"
     ],
     "language": "python",
     "metadata": {},
     "outputs": [
      {
       "output_type": "stream",
       "stream": "stdout",
       "text": [
        "{'curr_stop_seq': 23, 'curr_stop': u'', 'time': 1384400811L, 'lat': 42.370361328125, 'lng': -71.11328125, 'trip_id': u'20880726'}\n",
        "2013-11-13 22:46:51\n"
       ]
      }
     ],
     "prompt_number": 51
    },
    {
     "cell_type": "code",
     "collapsed": false,
     "input": [
      "sid = stop_times[(stop_times.trip_id == 20251824) & (stop_times.stop_sequence == 8)].stop_id\n",
      "stops[stops.stop_id == str(sid.iloc[0])]\n",
      "# sid"
     ],
     "language": "python",
     "metadata": {},
     "outputs": []
    },
    {
     "cell_type": "code",
     "collapsed": false,
     "input": [
      "def plot_bus(bus_info):\n",
      "    trip_id = bus_info.trip_id\n",
      "#     print datetime.datetime.fromtimestamp(bus_tmp.time)\n",
      "    sids = stop_times[stop_times.trip_id == int(trip_id)]\n",
      "    sids1 = stops[stops.stop_id.isin(sids.stop_id.apply(str))]\n",
      "    sid = sids[sids.stop_sequence == bus_info.curr_stop_seq]\n",
      "#     print sids1\n",
      "#     print sid.arrival_time\n",
      "#     print bus_info.curr_stop_seq\n",
      "#     print bus_info.curr_stop\n",
      "    \n",
      "    stmp = stops[stops.stop_id == str(sid.stop_id.iloc[0])]\n",
      "#     print stmp\n",
      "    plot(sids1.stop_lon, sids1.stop_lat, '.')\n",
      "    plot(bus_info.lng, bus_info.lat, '.', ms=10, color='r')\n",
      "    plot(stmp.stop_lon, stmp.stop_lat, '.', ms=10, color='g')"
     ],
     "language": "python",
     "metadata": {},
     "outputs": [],
     "prompt_number": 64
    },
    {
     "cell_type": "code",
     "collapsed": false,
     "input": [
      "def how_late(bus_info):\n",
      "    trip_id = bus_info.trip_id\n",
      "    bt = datetime.datetime.fromtimestamp(bus_tmp.time)\n",
      "    sids = stop_times[stop_times.trip_id == int(trip_id)]\n",
      "    sid = sids[sids.stop_sequence == bus_info.curr_stop_seq]\n",
      "#     sids1 = stop_times[stop_times.stop_id.isin(sids.stop_id.apply(str))]\n",
      "    \n",
      "    at = sid.arrival_time.iloc[0]\n",
      "    hour, minute, second = at.strip().split(':')\n",
      "#     print at\n",
      "    \n",
      "    a = datetime.datetime(bt.year, bt.month, bt.day, int(hour), int(minute), int(second))\n",
      "    \n",
      "    print \"The bus is late by: %s\" % str(bt - a)\n",
      "    return bt, a\n",
      "    \n",
      "#     print sids1\n",
      "#     print sid.arrival_time\n",
      "#     print bus_info.curr_stop_seq\n",
      "#     print bus_info.curr_stop"
     ],
     "language": "python",
     "metadata": {},
     "outputs": [],
     "prompt_number": 115
    },
    {
     "cell_type": "code",
     "collapsed": false,
     "input": [
      "how_late(buses_rt1[6])"
     ],
     "language": "python",
     "metadata": {},
     "outputs": [
      {
       "output_type": "stream",
       "stream": "stdout",
       "text": [
        "The bus is late by: 0:04:51\n"
       ]
      },
      {
       "metadata": {},
       "output_type": "pyout",
       "prompt_number": 122,
       "text": [
        "(datetime.datetime(2013, 11, 13, 22, 46, 51),\n",
        " datetime.datetime(2013, 11, 13, 22, 42))"
       ]
      }
     ],
     "prompt_number": 122
    },
    {
     "cell_type": "code",
     "collapsed": false,
     "input": [
      "bt.year"
     ],
     "language": "python",
     "metadata": {},
     "outputs": [
      {
       "metadata": {},
       "output_type": "pyout",
       "prompt_number": 105,
       "text": [
        "2013"
       ]
      }
     ],
     "prompt_number": 105
    },
    {
     "cell_type": "code",
     "collapsed": false,
     "input": [
      "plot_bus(buses_rt1[6])"
     ],
     "language": "python",
     "metadata": {},
     "outputs": [
      {
       "metadata": {},
       "output_type": "display_data",
       "png": "[encoded data removed]",
       "text": [
        "<matplotlib.figure.Figure at 0x10830dd90>"
       ]
      }
     ],
     "prompt_number": 75
    },
    {
     "cell_type": "code",
     "collapsed": false,
     "input": [
      "%autoreload 2"
     ],
     "language": "python",
     "metadata": {},
     "outputs": [],
     "prompt_number": 76
    },
    {
     "cell_type": "code",
     "collapsed": false,
     "input": [
      "out = dave()"
     ],
     "language": "python",
     "metadata": {},
     "outputs": [],
     "prompt_number": 78
    },
    {
     "cell_type": "code",
     "collapsed": false,
     "input": [],
     "language": "python",
     "metadata": {},
     "outputs": []
    }
   ],
   "metadata": {}
  }
 ]
}